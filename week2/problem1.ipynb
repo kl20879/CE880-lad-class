{
 "cells": [
  {
   "cell_type": "markdown",
   "metadata": {},
   "source": [
    "---\n",
    "# Welcome to CE880\n",
    "### This is your week-2 : Problem 1 notebook\n",
    "\n",
    "For this problem set, we'll be using the Jupyter notebook and please upload this notebook to [Google Colab](https://colab.research.google.com/). \n"
   ]
  },
  {
   "cell_type": "markdown",
   "metadata": {},
   "source": [
    "---\n",
    "## Question 1:\n",
    "\n",
    "Write a function to replace all odd numbers in the given array with -7. \n",
    "`Hint`: take input as list and inside the function covert it into numpy array then perform the function. Your output should be a list so don't forget to convert numpy array to list"
   ]
  },
  {
   "cell_type": "code",
   "execution_count": 65,
   "metadata": {
    "nbgrader": {
     "grade": false,
     "grade_id": "replaceOdd_ans",
     "locked": false,
     "schema_version": 3,
     "solution": true
    }
   },
   "outputs": [],
   "source": [
    "import numpy as np\n",
    "def replaceOdd(mylist):\n",
    "    \"\"\"Replace all odd numbers in the given array with -7. Input list\"\"\"\n",
    "    \n",
    "    ### BEGIN SOLUTION\n",
    "    exercise_1 = np.array(mylist)\n",
    "    exercise_1[exercise_1 % 2 == 1] = -7\n",
    "    exercise_1 = exercise_1.tolist()\n",
    "    return exercise_1\n",
    "    ### END SOLUTION"
   ]
  },
  {
   "cell_type": "code",
   "execution_count": 66,
   "metadata": {},
   "outputs": [
    {
     "data": {
      "text/plain": [
       "[-7, -6, -7, 0, 10, -7, -7, 6, -7, -7]"
      ]
     },
     "execution_count": 66,
     "metadata": {},
     "output_type": "execute_result"
    }
   ],
   "source": [
    "mylist = [-7, -6, -5, 0, 10, 5, 3, 6, 7, 9]\n",
    "replaceOdd(mylist)"
   ]
  },
  {
   "cell_type": "code",
   "execution_count": 67,
   "metadata": {
    "nbgrader": {
     "grade": true,
     "grade_id": "replaceOdd_test",
     "locked": false,
     "points": 1,
     "schema_version": 3,
     "solution": false
    }
   },
   "outputs": [],
   "source": [
    "\"\"\"Check that squares returns the correct output for several inputs\"\"\"\n",
    "# Test case 1\n",
    "mylist = [0, 1, 2, 3, 4, 5, 6, 7, 8, 9]\n",
    "assert replaceOdd(mylist) == [ 0, -7,  2, -7,  4, -7,  6, -7,  8, -7]\n",
    "\n",
    "# Test case 2\n",
    "mylist = [10, 11, 12, 13, 14, 15, 16, 17, 18, 19]\n",
    "assert replaceOdd(mylist) == [10, -7, 12, -7, 14, -7, 16, -7, 18, -7]\n",
    "\n",
    "# Test case 3\n",
    "mylist = [-7, -6, -5, 0, 100, 5, 6, 6, 18, 19]\n",
    "assert replaceOdd(mylist) == [-7, -6, -7, 0, 100, -7, 6, 6, 18, -7]\n"
   ]
  },
  {
   "cell_type": "markdown",
   "metadata": {},
   "source": [
    "---\n",
    "\n",
    "## Question 2:\n",
    "\n",
    "Write a program, which accept list of range `n` and print all values except the first and last.\n",
    "`Hint`: Please don't use numpy here\n",
    "`Example` : input `n = 4` and list will be created `[0, 1, 2, 3]` and output should be: `[1, 2]`"
   ]
  },
  {
   "cell_type": "code",
   "execution_count": 68,
   "metadata": {
    "nbgrader": {
     "grade": false,
     "grade_id": "rmv_values_ans",
     "locked": false,
     "schema_version": 3,
     "solution": true
    }
   },
   "outputs": [],
   "source": [
    "def rmv_values(n):\n",
    "    \"\"\"accept list of range `n` and print all values except the first and last.\"\"\"\n",
    "    ### BEGIN SOLUTION\n",
    "    arr1 = list(range(n))\n",
    "#     print(arr1)\n",
    "    result = arr1[1:-1]\n",
    "    return result\n",
    "    ### END SOLUTION"
   ]
  },
  {
   "cell_type": "code",
   "execution_count": 69,
   "metadata": {},
   "outputs": [
    {
     "data": {
      "text/plain": [
       "[1, 2]"
      ]
     },
     "execution_count": 69,
     "metadata": {},
     "output_type": "execute_result"
    }
   ],
   "source": [
    "rmv_values(4)"
   ]
  },
  {
   "cell_type": "code",
   "execution_count": 70,
   "metadata": {
    "nbgrader": {
     "grade": true,
     "grade_id": "rmv_values_test",
     "locked": false,
     "points": 1,
     "schema_version": 3,
     "solution": false
    }
   },
   "outputs": [],
   "source": [
    "\"\"\"Check that areaofTrap returns the correct answer for various inputs.\"\"\"\n",
    "assert rmv_values(3) == [1]\n",
    "assert rmv_values(7) == [1, 2, 3, 4, 5]\n",
    "assert rmv_values(8) == [1, 2, 3, 4, 5, 6]\n",
    "assert rmv_values(0) == []"
   ]
  },
  {
   "cell_type": "markdown",
   "metadata": {},
   "source": [
    "---\n",
    "## Question 3: \n",
    "\n",
    " Write a program, which accept 2D array with `nan` and replace all `nan` with `0`.  "
   ]
  },
  {
   "cell_type": "code",
   "execution_count": 71,
   "metadata": {
    "nbgrader": {
     "grade": false,
     "grade_id": "remNan_ans",
     "locked": false,
     "schema_version": 3,
     "solution": true,
     "task": false
    }
   },
   "outputs": [],
   "source": [
    "import numpy as no\n",
    "def rem_Nan(A):\n",
    "    \"\"\"Write your code here to reverse the string\"\"\"\n",
    "    \n",
    "    ### BEGIN SOLUTION\n",
    "    A[np.isnan(A)] = 0\n",
    "    return A\n",
    "    ### END SOLUTION"
   ]
  },
  {
   "cell_type": "code",
   "execution_count": 72,
   "metadata": {},
   "outputs": [],
   "source": [
    "arr1 = np.array([[1,2,3],[3,np.nan,3]])\n",
    "arr2 = np.array([[1,2,3],[3,0,3]])\n",
    "\n",
    "assert np.allclose(rem_Nan(arr1), arr2)"
   ]
  },
  {
   "cell_type": "code",
   "execution_count": 73,
   "metadata": {
    "nbgrader": {
     "grade": true,
     "grade_id": "remNan_test",
     "locked": true,
     "points": 1,
     "schema_version": 3,
     "solution": false,
     "task": false
    }
   },
   "outputs": [],
   "source": [
    "\"\"\"Check that areaofTrap returns the correct answer for various inputs.\"\"\"\n",
    "# Test Case 1\n",
    "arr1 = np.array([[1,2,3],[3,np.nan,3]])\n",
    "arr2 = np.array([[1,2,3],[3,0,3]])\n",
    "assert np.allclose(rem_Nan(arr1), arr2)\n",
    "\n",
    "# Test Case 2\n",
    "arr3 = np.array([[np.nan,2,np.nan],[3,np.nan,3]])\n",
    "arr4 = np.array([[0,2,0],[3,0,3]])\n",
    "assert np.allclose(rem_Nan(arr3), arr4)"
   ]
  },
  {
   "cell_type": "code",
   "execution_count": null,
   "metadata": {},
   "outputs": [],
   "source": []
  }
 ],
 "metadata": {
  "celltoolbar": "Create Assignment",
  "kernelspec": {
   "display_name": "Python 3",
   "language": "python",
   "name": "python3"
  },
  "language_info": {
   "codemirror_mode": {
    "name": "ipython",
    "version": 3
   },
   "file_extension": ".py",
   "mimetype": "text/x-python",
   "name": "python",
   "nbconvert_exporter": "python",
   "pygments_lexer": "ipython3",
   "version": "3.7.10"
  }
 },
 "nbformat": 4,
 "nbformat_minor": 1
}
