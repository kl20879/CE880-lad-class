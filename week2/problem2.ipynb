{
  "nbformat": 4,
  "nbformat_minor": 0,
  "metadata": {
    "celltoolbar": "Create Assignment",
    "kernelspec": {
      "display_name": "Python 3",
      "language": "python",
      "name": "python3"
    },
    "language_info": {
      "codemirror_mode": {
        "name": "ipython",
        "version": 3
      },
      "file_extension": ".py",
      "mimetype": "text/x-python",
      "name": "python",
      "nbconvert_exporter": "python",
      "pygments_lexer": "ipython3",
      "version": "3.7.10"
    },
    "colab": {
      "name": "problem2.ipynb",
      "provenance": [],
      "include_colab_link": true
    }
  },
  "cells": [
    {
      "cell_type": "markdown",
      "metadata": {
        "id": "view-in-github",
        "colab_type": "text"
      },
      "source": [
        "<a href=\"https://colab.research.google.com/github/kl20879/CE880-lad-class/blob/main/week2/problem2.ipynb\" target=\"_parent\"><img src=\"https://colab.research.google.com/assets/colab-badge.svg\" alt=\"Open In Colab\"/></a>"
      ]
    },
    {
      "cell_type": "markdown",
      "metadata": {
        "id": "XWMX9b_By-h3"
      },
      "source": [
        "---\n",
        "# Welcome to CE880\n",
        "### This is your week-2 : Problem 2 notebook\n",
        "\n",
        "For this problem set, we'll be using the Jupyter notebook and please upload this notebook to [Google Colab](https://colab.research.google.com/). "
      ]
    },
    {
      "cell_type": "code",
      "metadata": {
        "id": "3wxrBNGCy-h7",
        "outputId": "e15a5973-db2c-49a7-914a-b7dd920bdcc6"
      },
      "source": [
        "# Please make sure if pandas is installed and if not then run the this cell otherwise skip\n",
        "!pip install pandas"
      ],
      "execution_count": null,
      "outputs": [
        {
          "name": "stdout",
          "output_type": "stream",
          "text": [
            "Collecting pandas\n",
            "  Downloading pandas-1.3.4-cp37-cp37m-macosx_10_9_x86_64.whl (11.3 MB)\n",
            "\u001b[K     |████████████████████████████████| 11.3 MB 5.4 MB/s eta 0:00:01\n",
            "\u001b[?25hRequirement already satisfied: numpy>=1.17.3 in /Users/sagihaider/anaconda3/envs/teaching/lib/python3.7/site-packages (from pandas) (1.21.2)\n",
            "Requirement already satisfied: python-dateutil>=2.7.3 in /Users/sagihaider/anaconda3/envs/teaching/lib/python3.7/site-packages (from pandas) (2.8.1)\n",
            "Requirement already satisfied: pytz>=2017.3 in /Users/sagihaider/anaconda3/envs/teaching/lib/python3.7/site-packages (from pandas) (2021.3)\n",
            "Requirement already satisfied: six>=1.5 in /Users/sagihaider/anaconda3/envs/teaching/lib/python3.7/site-packages (from python-dateutil>=2.7.3->pandas) (1.16.0)\n",
            "Installing collected packages: pandas\n",
            "Successfully installed pandas-1.3.4\n"
          ]
        }
      ]
    },
    {
      "cell_type": "markdown",
      "metadata": {
        "id": "A4dQ8yY2y-h9"
      },
      "source": [
        "#### Let's create a Toy Data for rest of the 3 questions"
      ]
    },
    {
      "cell_type": "code",
      "metadata": {
        "id": "gP8zSTT4y-h-",
        "outputId": "b67cf5e4-37ae-4454-e62e-83726ddc0460"
      },
      "source": [
        "import numpy as np\n",
        "import pandas as pd\n",
        "exam_data  = {'name': ['Anastasia', 'Dima', 'Katherine', 'James', 'Emily', 'Michael', 'Matthew', 'Laura', 'Kevin', 'Jonas'],\n",
        "        'score': [12.5, 9, 16.5, np.nan, 9, 20, 14.5, np.nan, 8, 19],\n",
        "        'attempts': [1, 3, 2, 3, 2, 3, 1, 1, 2, 1],\n",
        "        'qualify': ['yes', 'no', 'yes', 'no', 'no', 'yes', 'yes', 'no', 'no', 'yes']}\n",
        "labels = ['a', 'b', 'c', 'd', 'e', 'f', 'g', 'h', 'i', 'j']\n",
        "df = pd.DataFrame(exam_data , index=labels)\n",
        "df"
      ],
      "execution_count": null,
      "outputs": [
        {
          "data": {
            "text/html": [
              "<div>\n",
              "<style scoped>\n",
              "    .dataframe tbody tr th:only-of-type {\n",
              "        vertical-align: middle;\n",
              "    }\n",
              "\n",
              "    .dataframe tbody tr th {\n",
              "        vertical-align: top;\n",
              "    }\n",
              "\n",
              "    .dataframe thead th {\n",
              "        text-align: right;\n",
              "    }\n",
              "</style>\n",
              "<table border=\"1\" class=\"dataframe\">\n",
              "  <thead>\n",
              "    <tr style=\"text-align: right;\">\n",
              "      <th></th>\n",
              "      <th>name</th>\n",
              "      <th>score</th>\n",
              "      <th>attempts</th>\n",
              "      <th>qualify</th>\n",
              "    </tr>\n",
              "  </thead>\n",
              "  <tbody>\n",
              "    <tr>\n",
              "      <th>a</th>\n",
              "      <td>Anastasia</td>\n",
              "      <td>12.5</td>\n",
              "      <td>1</td>\n",
              "      <td>yes</td>\n",
              "    </tr>\n",
              "    <tr>\n",
              "      <th>b</th>\n",
              "      <td>Dima</td>\n",
              "      <td>9.0</td>\n",
              "      <td>3</td>\n",
              "      <td>no</td>\n",
              "    </tr>\n",
              "    <tr>\n",
              "      <th>c</th>\n",
              "      <td>Katherine</td>\n",
              "      <td>16.5</td>\n",
              "      <td>2</td>\n",
              "      <td>yes</td>\n",
              "    </tr>\n",
              "    <tr>\n",
              "      <th>d</th>\n",
              "      <td>James</td>\n",
              "      <td>NaN</td>\n",
              "      <td>3</td>\n",
              "      <td>no</td>\n",
              "    </tr>\n",
              "    <tr>\n",
              "      <th>e</th>\n",
              "      <td>Emily</td>\n",
              "      <td>9.0</td>\n",
              "      <td>2</td>\n",
              "      <td>no</td>\n",
              "    </tr>\n",
              "    <tr>\n",
              "      <th>f</th>\n",
              "      <td>Michael</td>\n",
              "      <td>20.0</td>\n",
              "      <td>3</td>\n",
              "      <td>yes</td>\n",
              "    </tr>\n",
              "    <tr>\n",
              "      <th>g</th>\n",
              "      <td>Matthew</td>\n",
              "      <td>14.5</td>\n",
              "      <td>1</td>\n",
              "      <td>yes</td>\n",
              "    </tr>\n",
              "    <tr>\n",
              "      <th>h</th>\n",
              "      <td>Laura</td>\n",
              "      <td>NaN</td>\n",
              "      <td>1</td>\n",
              "      <td>no</td>\n",
              "    </tr>\n",
              "    <tr>\n",
              "      <th>i</th>\n",
              "      <td>Kevin</td>\n",
              "      <td>8.0</td>\n",
              "      <td>2</td>\n",
              "      <td>no</td>\n",
              "    </tr>\n",
              "    <tr>\n",
              "      <th>j</th>\n",
              "      <td>Jonas</td>\n",
              "      <td>19.0</td>\n",
              "      <td>1</td>\n",
              "      <td>yes</td>\n",
              "    </tr>\n",
              "  </tbody>\n",
              "</table>\n",
              "</div>"
            ],
            "text/plain": [
              "        name  score  attempts qualify\n",
              "a  Anastasia   12.5         1     yes\n",
              "b       Dima    9.0         3      no\n",
              "c  Katherine   16.5         2     yes\n",
              "d      James    NaN         3      no\n",
              "e      Emily    9.0         2      no\n",
              "f    Michael   20.0         3     yes\n",
              "g    Matthew   14.5         1     yes\n",
              "h      Laura    NaN         1      no\n",
              "i      Kevin    8.0         2      no\n",
              "j      Jonas   19.0         1     yes"
            ]
          },
          "execution_count": 5,
          "metadata": {},
          "output_type": "execute_result"
        }
      ]
    },
    {
      "cell_type": "markdown",
      "metadata": {
        "id": "TybF-2-Ly-h_"
      },
      "source": [
        "---\n",
        "## Question 4:\n",
        "\n",
        "Write a Pandas program to display students names, where number of attempts in the examination is less than 2 and score greater than 15."
      ]
    },
    {
      "cell_type": "code",
      "metadata": {
        "nbgrader": {
          "grade": false,
          "grade_id": "filter_1_ans",
          "locked": false,
          "schema_version": 3,
          "solution": true,
          "task": false
        },
        "id": "V4c09oFuy-h_"
      },
      "source": [
        "def filter_1():\n",
        "    \"\"\"Write a Pandas program to display students names, where number of attempts \n",
        "    in the examination is less than 2 and score greater than 15.\"\"\"\n",
        "    \n",
        "    ### BEGIN SOLUTION\n",
        "    ans1 = df[(df['attempts'] < 2) & (df['score'] > 15)]\n",
        "    nam1 = ans1['name']\n",
        "    nam1 = nam1.values.tolist()\n",
        "    return nam1\n",
        "    ### END SOLUTION"
      ],
      "execution_count": null,
      "outputs": []
    },
    {
      "cell_type": "code",
      "metadata": {
        "id": "N2kMOsv5y-iA",
        "outputId": "a270c383-e0f6-4b87-be54-08314415af68"
      },
      "source": [
        "filter_1()"
      ],
      "execution_count": null,
      "outputs": [
        {
          "data": {
            "text/plain": [
              "['Jonas']"
            ]
          },
          "execution_count": 21,
          "metadata": {},
          "output_type": "execute_result"
        }
      ]
    },
    {
      "cell_type": "code",
      "metadata": {
        "nbgrader": {
          "grade": true,
          "grade_id": "filter_1_test",
          "locked": true,
          "points": 1,
          "schema_version": 3,
          "solution": false,
          "task": false
        },
        "id": "WMq2rJ3iy-iB"
      },
      "source": [
        "assert filter_1() == ['Jonas']\n"
      ],
      "execution_count": null,
      "outputs": []
    },
    {
      "cell_type": "markdown",
      "metadata": {
        "id": "c78RLvbdy-iC"
      },
      "source": [
        "---\n",
        "## Question 5:\n",
        "\n",
        "Write a Pandas program to calculate the sum of the examination attempts by the students."
      ]
    },
    {
      "cell_type": "code",
      "metadata": {
        "nbgrader": {
          "grade": false,
          "grade_id": "sum_attempts_ans",
          "locked": false,
          "schema_version": 3,
          "solution": true,
          "task": false
        },
        "id": "DjjuK45oy-iC"
      },
      "source": [
        "def sum_attempts():\n",
        "    \"\"\"Write a Pandas program to calculate the sum of the examination attempts by the students.\"\"\"\n",
        "    \n",
        "    ### BEGIN SOLUTION\n",
        "    totalattempts = sum(df['attempts'])\n",
        "    return totalattempts\n",
        "    ### END SOLUTION"
      ],
      "execution_count": null,
      "outputs": []
    },
    {
      "cell_type": "code",
      "metadata": {
        "id": "U6KreSDYy-iD",
        "outputId": "dfeafd00-5cdd-4e66-a611-029cac2e8fc3"
      },
      "source": [
        "sum_attempts()"
      ],
      "execution_count": null,
      "outputs": [
        {
          "data": {
            "text/plain": [
              "19"
            ]
          },
          "execution_count": 29,
          "metadata": {},
          "output_type": "execute_result"
        }
      ]
    },
    {
      "cell_type": "code",
      "metadata": {
        "nbgrader": {
          "grade": true,
          "grade_id": "sum_attempts_test",
          "locked": true,
          "points": 1,
          "schema_version": 3,
          "solution": false,
          "task": false
        },
        "id": "Dx-Cpmbjy-iD"
      },
      "source": [
        "\"\"\"Check the sum attempt\"\"\"\n",
        "assert sum_attempts() == 19"
      ],
      "execution_count": null,
      "outputs": []
    },
    {
      "cell_type": "markdown",
      "metadata": {
        "id": "GtIS3D5-y-iD"
      },
      "source": [
        "## Question 6\n",
        "\n",
        "Write a Pandas program to display the average score. `Hint`: Please replace `NaN` values with `0` before calcualting average. "
      ]
    },
    {
      "cell_type": "code",
      "metadata": {
        "nbgrader": {
          "grade": false,
          "grade_id": "score_ans",
          "locked": false,
          "schema_version": 3,
          "solution": true,
          "task": false
        },
        "id": "ZrrG5580y-iE"
      },
      "source": [
        "import itertools\n",
        "def score():\n",
        "    \"\"\"Write a Python program to calculate average score\"\"\"\n",
        "    ### BEGIN SOLUTION\n",
        "    df['score']=df['score'].fillna(0)\n",
        "    means=df['score'].mean(skipna=False)\n",
        "    return means\n",
        "    ### END SOLUTION"
      ],
      "execution_count": null,
      "outputs": []
    },
    {
      "cell_type": "code",
      "metadata": {
        "id": "NKwa9zrWy-iE",
        "outputId": "00f005a7-83d5-4020-d280-78ff488cbeac"
      },
      "source": [
        "score()"
      ],
      "execution_count": null,
      "outputs": [
        {
          "data": {
            "text/plain": [
              "10.85"
            ]
          },
          "execution_count": 41,
          "metadata": {},
          "output_type": "execute_result"
        }
      ]
    },
    {
      "cell_type": "code",
      "metadata": {
        "nbgrader": {
          "grade": true,
          "grade_id": "score_test",
          "locked": true,
          "points": 1,
          "schema_version": 3,
          "solution": false,
          "task": false
        },
        "id": "aRsZGi1Xy-iE"
      },
      "source": [
        "assert score() == 10.85"
      ],
      "execution_count": null,
      "outputs": []
    }
  ]
}