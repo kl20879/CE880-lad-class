{
  "nbformat": 4,
  "nbformat_minor": 0,
  "metadata": {
    "kernelspec": {
      "display_name": "Python 3",
      "language": "python",
      "name": "python3"
    },
    "language_info": {
      "codemirror_mode": {
        "name": "ipython",
        "version": 3
      },
      "file_extension": ".py",
      "mimetype": "text/x-python",
      "name": "python",
      "nbconvert_exporter": "python",
      "pygments_lexer": "ipython3",
      "version": "3.7.3"
    },
    "colab": {
      "name": "problem2.ipynb",
      "provenance": [],
      "include_colab_link": true
    }
  },
  "cells": [
    {
      "cell_type": "markdown",
      "metadata": {
        "id": "view-in-github",
        "colab_type": "text"
      },
      "source": [
        "<a href=\"https://colab.research.google.com/github/kl20879/CE880-lad-class/blob/main/week3/problem2.ipynb\" target=\"_parent\"><img src=\"https://colab.research.google.com/assets/colab-badge.svg\" alt=\"Open In Colab\"/></a>"
      ]
    },
    {
      "cell_type": "markdown",
      "metadata": {
        "id": "JZi5nd9psM2U"
      },
      "source": [
        "Before you turn this problem in, make sure everything runs as expected. First, **restart the kernel** (in the menubar, select Kernel$\\rightarrow$Restart) and then **run all cells** (in the menubar, select Cell$\\rightarrow$Run All).\n",
        "\n",
        "Make sure you fill in any place that says `YOUR CODE HERE` or \"YOUR ANSWER HERE\", as well as your name and collaborators below:"
      ]
    },
    {
      "cell_type": "code",
      "metadata": {
        "id": "OLMDat7UsM2X"
      },
      "source": [
        "NAME = \"Kun Liu\"\n",
        "COLLABORATORS = \"\""
      ],
      "execution_count": null,
      "outputs": []
    },
    {
      "cell_type": "markdown",
      "metadata": {
        "id": "XUUTq3uCsM2Y"
      },
      "source": [
        "---"
      ]
    },
    {
      "cell_type": "markdown",
      "metadata": {
        "id": "gc21ExFLsM2Y"
      },
      "source": [
        "---\n",
        "# Welcome to CE880\n",
        "### This is your week-3 : Problem 2 notebook\n",
        "\n",
        "For this problem set, we'll be using the Jupyter notebook and please upload this notebook to [Google Colab](https://colab.research.google.com/). "
      ]
    },
    {
      "cell_type": "code",
      "metadata": {
        "colab": {
          "base_uri": "https://localhost:8080/"
        },
        "id": "pAJx8rrAsM2Y",
        "outputId": "cd6d10fe-66c3-4128-9174-0d05417bcb33"
      },
      "source": [
        "# Please make sure if pandas is installed and if not then run the this cell otherwise skip\n",
        "!pip install pandas"
      ],
      "execution_count": 2,
      "outputs": [
        {
          "output_type": "stream",
          "name": "stdout",
          "text": [
            "Requirement already satisfied: pandas in /usr/local/lib/python3.7/dist-packages (1.1.5)\n",
            "Requirement already satisfied: pytz>=2017.2 in /usr/local/lib/python3.7/dist-packages (from pandas) (2018.9)\n",
            "Requirement already satisfied: python-dateutil>=2.7.3 in /usr/local/lib/python3.7/dist-packages (from pandas) (2.8.2)\n",
            "Requirement already satisfied: numpy>=1.15.4 in /usr/local/lib/python3.7/dist-packages (from pandas) (1.19.5)\n",
            "Requirement already satisfied: six>=1.5 in /usr/local/lib/python3.7/dist-packages (from python-dateutil>=2.7.3->pandas) (1.15.0)\n"
          ]
        }
      ]
    },
    {
      "cell_type": "markdown",
      "metadata": {
        "id": "igWNPoH7sM2Y"
      },
      "source": [
        "#### Let's load iris dataset"
      ]
    },
    {
      "cell_type": "code",
      "metadata": {
        "id": "tIOuZalesM2Z"
      },
      "source": [
        "import pandas as pd\n",
        "import numpy as np\n",
        "df = pd.read_csv('iris.csv') # Please adjust the path is needed if you are loading the datafile from local computer\n",
        "df # display the DataFrame"
      ],
      "execution_count": null,
      "outputs": []
    },
    {
      "cell_type": "markdown",
      "metadata": {
        "id": "H3Qr9rWVsM2Z"
      },
      "source": [
        "---\n",
        "## Question 4:\n",
        "\n",
        "Write a program to find the mean of the `petal.length` variable in the iris data"
      ]
    },
    {
      "cell_type": "code",
      "metadata": {
        "deletable": false,
        "nbgrader": {
          "cell_type": "code",
          "checksum": "d0a1662c3ee6eced76325f3de89bd8cb",
          "grade": false,
          "grade_id": "filter_1_ans",
          "locked": false,
          "schema_version": 3,
          "solution": true,
          "task": false
        },
        "id": "6I0hv_uHsM2Z"
      },
      "source": [
        "def iris_mean():\n",
        "    \"\"\"write a function to find the mean of the `petal.length`.\"\"\"\n",
        "    \n",
        "    # YOUR CODE HERE\n",
        "    res = df['petal.length'].mean()\n",
        "    return res\n",
        "    raise NotImplementedError()"
      ],
      "execution_count": 11,
      "outputs": []
    },
    {
      "cell_type": "code",
      "metadata": {
        "deletable": false,
        "editable": false,
        "nbgrader": {
          "cell_type": "code",
          "checksum": "af850740b5b3fa1672e7cd18cffc4ad6",
          "grade": true,
          "grade_id": "filter_1_test",
          "locked": true,
          "points": 1,
          "schema_version": 3,
          "solution": false,
          "task": false
        },
        "id": "EXkEntv-sM2a"
      },
      "source": [
        "assert np.isclose(iris_mean(), 3.75, atol= 0.1)\n"
      ],
      "execution_count": null,
      "outputs": []
    },
    {
      "cell_type": "markdown",
      "metadata": {
        "id": "EvKXxhCesM2b"
      },
      "source": [
        "---\n",
        "## Question 5:\n",
        "Write a program to count the number of rows in the iris data, where `variety = Setosa`"
      ]
    },
    {
      "cell_type": "code",
      "metadata": {
        "deletable": false,
        "nbgrader": {
          "cell_type": "code",
          "checksum": "c9cd5fa952f71fd927f6ac14ad66872c",
          "grade": false,
          "grade_id": "iris_count_ans",
          "locked": false,
          "schema_version": 3,
          "solution": true,
          "task": false
        },
        "id": "hbd08EJbsM2b"
      },
      "source": [
        "def iris_count():\n",
        "    \"\"\"Write a function to count the number of rows, where variety is Setosa\"\"\"\n",
        "    \n",
        "    # YOUR CODE HERE\n",
        "    res = len(df[df['variety']=='Setosa'])\n",
        "    return res\n",
        "    raise NotImplementedError()"
      ],
      "execution_count": 12,
      "outputs": []
    },
    {
      "cell_type": "code",
      "metadata": {
        "deletable": false,
        "editable": false,
        "nbgrader": {
          "cell_type": "code",
          "checksum": "d0309380f15fe90ff20fec412ff2b6a9",
          "grade": true,
          "grade_id": "iris_count_test",
          "locked": true,
          "points": 1,
          "schema_version": 3,
          "solution": false,
          "task": false
        },
        "id": "fgHDQ1hzsM2b"
      },
      "source": [
        "\"\"\"Check the your answer\"\"\"\n",
        "assert iris_count() == 50"
      ],
      "execution_count": null,
      "outputs": []
    },
    {
      "cell_type": "markdown",
      "metadata": {
        "id": "BuX2KLX-sM2b"
      },
      "source": [
        "## Question 6\n",
        "\n",
        "Write a Pandas program to calculate the correlation between `sepal.length` and `sepal.width`."
      ]
    },
    {
      "cell_type": "code",
      "metadata": {
        "deletable": false,
        "nbgrader": {
          "cell_type": "code",
          "checksum": "9149cd5b452392a1ae71c329788d10af",
          "grade": false,
          "grade_id": "iris_correlation_ans",
          "locked": false,
          "schema_version": 3,
          "solution": true,
          "task": false
        },
        "id": "SlmDzob3sM2b"
      },
      "source": [
        "import itertools\n",
        "def iris_correlation():\n",
        "    \"\"\"calculate the correlation\"\"\"\n",
        "    # YOUR CODE HERE\n",
        "    res = pd.DataFrame(df['sepal.length']).corrwith(df['sepal.width'])\n",
        "    return res\n",
        "    raise NotImplementedError()"
      ],
      "execution_count": 13,
      "outputs": []
    },
    {
      "cell_type": "code",
      "metadata": {
        "id": "N9pBpVLLsM2b"
      },
      "source": [
        "iris_correlation()"
      ],
      "execution_count": null,
      "outputs": []
    },
    {
      "cell_type": "code",
      "metadata": {
        "deletable": false,
        "editable": false,
        "nbgrader": {
          "cell_type": "code",
          "checksum": "cf71cf8462bf3b570b420e141428956b",
          "grade": true,
          "grade_id": "iris_correlation_test",
          "locked": true,
          "points": 1,
          "schema_version": 3,
          "solution": false,
          "task": false
        },
        "id": "ejkuGNIYsM2c"
      },
      "source": [
        "assert np.isclose(iris_correlation(), -0.11, atol= 0.05)"
      ],
      "execution_count": null,
      "outputs": []
    },
    {
      "cell_type": "code",
      "metadata": {
        "id": "QH6dqEaIsM2c"
      },
      "source": [
        ""
      ],
      "execution_count": null,
      "outputs": []
    }
  ]
}